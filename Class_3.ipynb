{
 "cells": [
  {
   "cell_type": "code",
   "execution_count": 7,
   "metadata": {},
   "outputs": [
    {
     "name": "stdout",
     "output_type": "stream",
     "text": [
      "You entered the number: 1\n"
     ]
    }
   ],
   "source": [
    "# Prompt the user to input a number\n",
    "user_input = input(\"Please enter a number: \")\n",
    "\n",
    "# Convert the input to an integer\n",
    "number = int(user_input)\n",
    "\n",
    "# Print the integer value\n",
    "print(\"You entered the number:\", number)\n"
   ]
  },
  {
   "cell_type": "code",
   "execution_count": 8,
   "metadata": {},
   "outputs": [
    {
     "name": "stdout",
     "output_type": "stream",
     "text": [
      "You are not old enough to buy cigarettes.\n"
     ]
    }
   ],
   "source": [
    "def check_age(age):\n",
    "    if age >= 18:\n",
    "        return True\n",
    "    else:\n",
    "        return False\n",
    "\n",
    "def main():\n",
    "    try:\n",
    "        age = int(input(\"Please enter your age: \"))\n",
    "        if check_age(age):\n",
    "            print(\"You are old enough to buy cigarettes.\")\n",
    "        else:\n",
    "            print(\"You are not old enough to buy cigarettes.\")\n",
    "    except ValueError:\n",
    "        print(\"Invalid input. Please enter a valid age.\")\n",
    "\n",
    "if __name__ == \"__main__\":\n",
    "    main()\n"
   ]
  },
  {
   "cell_type": "code",
   "execution_count": 9,
   "metadata": {},
   "outputs": [
    {
     "name": "stdout",
     "output_type": "stream",
     "text": [
      "1 is greater than 0.\n"
     ]
    }
   ],
   "source": [
    "num_input = input(\"Please enter a number: \")  # Prompt the user to enter a number\n",
    "\n",
    "if num_input.isdigit():\n",
    "    num = int(num_input)\n",
    "    if num > 0:\n",
    "        print(f'{num} is greater than 0.')\n",
    "    elif num < 0:\n",
    "        print(f'{num} is smaller than 0.')\n",
    "    else:\n",
    "        print(f'{num} is equal to 0.')\n",
    "else:\n",
    "    print(\"Invalid input. Please enter a valid number.\")\n"
   ]
  },
  {
   "cell_type": "code",
   "execution_count": 10,
   "metadata": {},
   "outputs": [
    {
     "name": "stdout",
     "output_type": "stream",
     "text": [
      "a is the biggest.\n"
     ]
    }
   ],
   "source": [
    "a = 200\n",
    "b = 100\n",
    "c = 150\n",
    "\n",
    "if a > b and a > c:\n",
    "    print(\"a is the biggest.\")\n",
    "else:\n",
    "    print(\"a is not the biggest.\")\n"
   ]
  },
  {
   "cell_type": "code",
   "execution_count": 11,
   "metadata": {},
   "outputs": [
    {
     "name": "stdout",
     "output_type": "stream",
     "text": [
      "It's a hot desert.\n"
     ]
    }
   ],
   "source": [
    "humidity = \"low\"\n",
    "temperature = \"high\"\n",
    "\n",
    "if humidity == \"low\" and temperature == \"high\":\n",
    "    print(\"It's a hot desert.\")\n",
    "elif humidity == \"low\" and temperature == 'low':\n",
    "    print(\"It's an arctic desert.\")\n",
    "elif humidity == \"high\" and temperature == \"high\":\n",
    "    print(\"It's a tropical forest.\")\n",
    "else:\n",
    "    print(\"I don't know!\")\n"
   ]
  },
  {
   "cell_type": "code",
   "execution_count": 12,
   "metadata": {},
   "outputs": [
    {
     "name": "stdout",
     "output_type": "stream",
     "text": [
      "it is bigger than 10\n",
      "it is not bigger than 20\n"
     ]
    }
   ],
   "source": [
    "num = 15\n",
    "\n",
    "if num > 10:\n",
    "    print('it is bigger than 10')\n",
    "    if num > 20:\n",
    "        print('it is bigger than 20')\n",
    "    else:\n",
    "        print('it is not bigger than 20')\n",
    "else:\n",
    "    print('it is not bigger than 10')\n"
   ]
  },
  {
   "cell_type": "code",
   "execution_count": 3,
   "metadata": {},
   "outputs": [
    {
     "name": "stdout",
     "output_type": "stream",
     "text": [
      "You can go swimming in the lake.\n"
     ]
    }
   ],
   "source": [
    "'''### Quiz:\n",
    "You want to go swimming, but you don't know where! \n",
    "You have got four options: the ocean,the lake, the local swimming pool or the pond in your garden. \n",
    "For you to be able to swim there it has to be more than 2 meters deep and must be less than 30 km away.'''\n",
    "\n",
    "'''\n",
    "● Ocean: 4000m deep, 500 km away\n",
    "● Lake: 15m deep, 25 km away\n",
    "● Swimming Pool: 2 m deep, 10km away\n",
    "● Pond: 0.5m deep, 5 m away\n",
    "Using if/else/elif statements determine where you can go swimming.\n",
    "'''\n",
    "\n",
    "\n",
    "depth_ocean = 4000  # Depth of the ocean in meters\n",
    "distance_ocean = 500  # Distance to the ocean in kilometers\n",
    "\n",
    "depth_lake = 15  # Depth of the lake in meters\n",
    "distance_lake = 25  # Distance to the lake in kilometers\n",
    "\n",
    "depth_pool = 2  # Depth of the swimming pool in meters\n",
    "distance_pool = 10  # Distance to the swimming pool in kilometers\n",
    "\n",
    "depth_pond = 0.5  # Depth of the pond in meters\n",
    "distance_pond = 0.005  # Distance to the pond in kilometers\n",
    "\n",
    "# Check conditions for each swimming option\n",
    "if depth_ocean > 2 and distance_ocean < 30:\n",
    "    print(\"You can go swimming in the ocean.\")\n",
    "elif depth_lake > 2 and distance_lake < 30:\n",
    "    print(\"You can go swimming in the lake.\")\n",
    "elif depth_pool > 2 and distance_pool < 30:\n",
    "    print(\"You can go swimming in the local swimming pool.\")\n",
    "elif depth_pond > 2 and distance_pond < 30:\n",
    "    print(\"You can go swimming in the pond in your garden.\")\n",
    "else:\n",
    "    print(\"Sorry, you cannot go swimming at any of the available options.\")\n"
   ]
  },
  {
   "cell_type": "code",
   "execution_count": 4,
   "metadata": {},
   "outputs": [
    {
     "name": "stdout",
     "output_type": "stream",
     "text": [
      "apple bought\n",
      "banana bought\n",
      "milk bought\n",
      "All bought - done\n"
     ]
    }
   ],
   "source": [
    "fruits = ['apple', 'banana', 'milk']\n",
    "shopping_list = ['apple', 'banana', 'milk']\n",
    "\n",
    "for fruit in fruits:\n",
    "    if fruit in shopping_list:\n",
    "        print(f\"{fruit} bought\")\n",
    "        shopping_list.remove(fruit)\n",
    "    else:\n",
    "        print(f\"{fruit} not bought\")\n",
    "\n",
    "if not shopping_list:\n",
    "    print(\"All bought - done\")\n",
    "else:\n",
    "    print(\"Remaining items:\", shopping_list)\n"
   ]
  }
 ],
 "metadata": {
  "kernelspec": {
   "display_name": "Python 3",
   "language": "python",
   "name": "python3"
  },
  "language_info": {
   "codemirror_mode": {
    "name": "ipython",
    "version": 3
   },
   "file_extension": ".py",
   "mimetype": "text/x-python",
   "name": "python",
   "nbconvert_exporter": "python",
   "pygments_lexer": "ipython3",
   "version": "3.11.3"
  },
  "orig_nbformat": 4
 },
 "nbformat": 4,
 "nbformat_minor": 2
}
