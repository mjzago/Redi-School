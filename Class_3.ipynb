{
 "cells": [
  {
   "cell_type": "code",
   "execution_count": 7,
   "metadata": {},
   "outputs": [
    {
     "name": "stdout",
     "output_type": "stream",
     "text": [
      "You entered the number: 1\n"
     ]
    }
   ],
   "source": [
    "# Prompt the user to input a number\n",
    "user_input = input(\"Please enter a number: \")\n",
    "\n",
    "# Convert the input to an integer\n",
    "number = int(user_input)\n",
    "\n",
    "# Print the integer value\n",
    "print(\"You entered the number:\", number)\n"
   ]
  },
  {
   "cell_type": "code",
   "execution_count": 8,
   "metadata": {},
   "outputs": [
    {
     "name": "stdout",
     "output_type": "stream",
     "text": [
      "You are not old enough to buy cigarettes.\n"
     ]
    }
   ],
   "source": [
    "def check_age(age):\n",
    "    if age >= 18:\n",
    "        return True\n",
    "    else:\n",
    "        return False\n",
    "\n",
    "def main():\n",
    "    try:\n",
    "        age = int(input(\"Please enter your age: \"))\n",
    "        if check_age(age):\n",
    "            print(\"You are old enough to buy cigarettes.\")\n",
    "        else:\n",
    "            print(\"You are not old enough to buy cigarettes.\")\n",
    "    except ValueError:\n",
    "        print(\"Invalid input. Please enter a valid age.\")\n",
    "\n",
    "if __name__ == \"__main__\":\n",
    "    main()\n"
   ]
  },
  {
   "cell_type": "code",
   "execution_count": 9,
   "metadata": {},
   "outputs": [
    {
     "name": "stdout",
     "output_type": "stream",
     "text": [
      "1 is greater than 0.\n"
     ]
    }
   ],
   "source": [
    "num_input = input(\"Please enter a number: \")  # Prompt the user to enter a number\n",
    "\n",
    "if num_input.isdigit():\n",
    "    num = int(num_input)\n",
    "    if num > 0:\n",
    "        print(f'{num} is greater than 0.')\n",
    "    elif num < 0:\n",
    "        print(f'{num} is smaller than 0.')\n",
    "    else:\n",
    "        print(f'{num} is equal to 0.')\n",
    "else:\n",
    "    print(\"Invalid input. Please enter a valid number.\")\n"
   ]
  },
  {
   "cell_type": "code",
   "execution_count": 10,
   "metadata": {},
   "outputs": [
    {
     "name": "stdout",
     "output_type": "stream",
     "text": [
      "a is the biggest.\n"
     ]
    }
   ],
   "source": [
    "a = 200\n",
    "b = 100\n",
    "c = 150\n",
    "\n",
    "if a > b and a > c:\n",
    "    print(\"a is the biggest.\")\n",
    "else:\n",
    "    print(\"a is not the biggest.\")\n"
   ]
  },
  {
   "cell_type": "code",
   "execution_count": 11,
   "metadata": {},
   "outputs": [
    {
     "name": "stdout",
     "output_type": "stream",
     "text": [
      "It's a hot desert.\n"
     ]
    }
   ],
   "source": [
    "humidity = \"low\"\n",
    "temperature = \"high\"\n",
    "\n",
    "if humidity == \"low\" and temperature == \"high\":\n",
    "    print(\"It's a hot desert.\")\n",
    "elif humidity == \"low\" and temperature == 'low':\n",
    "    print(\"It's an arctic desert.\")\n",
    "elif humidity == \"high\" and temperature == \"high\":\n",
    "    print(\"It's a tropical forest.\")\n",
    "else:\n",
    "    print(\"I don't know!\")\n"
   ]
  },
  {
   "cell_type": "code",
   "execution_count": 12,
   "metadata": {},
   "outputs": [
    {
     "name": "stdout",
     "output_type": "stream",
     "text": [
      "it is bigger than 10\n",
      "it is not bigger than 20\n"
     ]
    }
   ],
   "source": [
    "num = 15\n",
    "\n",
    "if num > 10:\n",
    "    print('it is bigger than 10')\n",
    "    if num > 20:\n",
    "        print('it is bigger than 20')\n",
    "    else:\n",
    "        print('it is not bigger than 20')\n",
    "else:\n",
    "    print('it is not bigger than 10')\n"
   ]
  }
 ],
 "metadata": {
  "kernelspec": {
   "display_name": "Python 3",
   "language": "python",
   "name": "python3"
  },
  "language_info": {
   "codemirror_mode": {
    "name": "ipython",
    "version": 3
   },
   "file_extension": ".py",
   "mimetype": "text/x-python",
   "name": "python",
   "nbconvert_exporter": "python",
   "pygments_lexer": "ipython3",
   "version": "3.11.3"
  },
  "orig_nbformat": 4
 },
 "nbformat": 4,
 "nbformat_minor": 2
}
