{
 "cells": [
  {
   "cell_type": "code",
   "execution_count": 38,
   "metadata": {},
   "outputs": [
    {
     "name": "stdout",
     "output_type": "stream",
     "text": [
      "Both numbers are even\n",
      "And none of the numbers are multiples of 5\n"
     ]
    }
   ],
   "source": [
    "'''\n",
    "1. Take 2 numbers as input from the user. Print the results as True/False for the statements:\n",
    "A. Are both numbers even?\n",
    "B. Are both numbers odd?\n",
    "C. Is at least one number a multiple of 5?\n",
    "'''\n",
    "\n",
    "input1 = int(input('Please, type a number: '))\n",
    "input2 = int(input('Please, type another number: '))\n",
    "\n",
    "if input1 % 2 == 0 and input2 % 2 == 0:\n",
    "    print('Both numbers are even')\n",
    "else:\n",
    "    print('At least one number is odd or even')\n",
    "\n",
    "if input1 % 2 != 0 and input2 % 2 != 0:\n",
    "    print('Both numbers are odd')\n",
    "\n",
    "if input1 % 5 == 0 or input2 % 5 == 0:\n",
    "    print('And at least one number is a multiple of 5')\n",
    "else:\n",
    "    print('And none of the numbers are multiples of 5')\n",
    "\n"
   ]
  },
  {
   "cell_type": "code",
   "execution_count": 47,
   "metadata": {},
   "outputs": [
    {
     "name": "stdout",
     "output_type": "stream",
     "text": [
      "It's better to wear a jacket\n",
      "It's better to wear a pair of gloves\n",
      "It's better to wear a scarf\n"
     ]
    }
   ],
   "source": [
    "'''\n",
    "2. Write a personal weather assistant. This software would take as an input the forecasted\n",
    "temperature from a sensor and would recommend the corresponding clothes to wear.\n",
    "● Use the function input() to ask about the temperature today and store it into a variable.\n",
    "● If the temperature is below 12°C, recommend wearing a jacket (using print()) .\n",
    "● If the temperature is below 4°C, recommend wearing a pair of gloves (using print()).\n",
    "● If the temperature is below 8°C, recommend wearing a scarf (using print()).\n",
    "● If the temperature is over 25°C, recommend wearing sunglasses (using print()).\n",
    "'''\n",
    "temp = int(input('please give me the temperature of the day:'))\n",
    "\n",
    "if temp < 12:\n",
    "    print('It\\'s better to wear a jacket')\n",
    "if temp < 4:\n",
    "    print('It\\'s better to wear a pair of gloves')\n",
    "if temp < 8:\n",
    "    print('It\\'s better to wear a scarf')\n",
    "if temp > 25:\n",
    "    print('It\\'s a nice weather, use a sunglasses')"
   ]
  },
  {
   "cell_type": "code",
   "execution_count": 49,
   "metadata": {},
   "outputs": [
    {
     "name": "stdout",
     "output_type": "stream",
     "text": [
      "Steak 1 is perfect!\n",
      "You ruined steak 2, your friend is furious!\n"
     ]
    }
   ],
   "source": [
    "'''\n",
    "3. You are having a BBQ with your friends and you are grilling a steak. Based on how long\n",
    "the steak is on the grill, you get different outcomes:\n",
    "● If it cooks for less than 2 minutes, the steak is rare.\n",
    "● If it cooks between 2 and 4 minutes, the steak is medium.\n",
    "● After 4 minutes, the steak is well done.\n",
    "● And after 8 minutes the steak burns.\n",
    "Write a program that determines the state of a steak based on the time it was grilled. Test\n",
    "your program with the following values and check if the steak is just like your friends wanted\n",
    "it:\n",
    "● Steak 1 was on the grill for 3 minutes (your friend wanted his steak medium).\n",
    "● Steak 2 was on the grill for 10 minutes (your friend wanted his steak well done)\n",
    "If the steak is just like your friend wanted it print “The steak is perfect!”, else print ”You ruined\n",
    "the steak, your friend is furious!”;\n",
    "'''\n",
    "# griling time\n",
    "steak1_time = 3  \n",
    "steak2_time = 10  \n",
    "\n",
    "# Determine the state of each steak\n",
    "steak1_state = \"\"\n",
    "steak2_state = \"\"\n",
    "\n",
    "if steak1_time < 2:\n",
    "    steak1_state = \"rare\"\n",
    "elif 2 <= steak1_time <= 4:\n",
    "    steak1_state = \"medium\"\n",
    "elif steak1_time > 4 and steak1_time <= 8:\n",
    "    steak1_state = \"well done\"\n",
    "else:\n",
    "    steak1_state = \"burnt\"\n",
    "\n",
    "if steak2_time < 2:\n",
    "    steak2_state = \"rare\"\n",
    "elif 2 <= steak2_time <= 4:\n",
    "    steak2_state = \"medium\"\n",
    "elif steak2_time > 4 and steak2_time <= 8:\n",
    "    steak2_state = \"well done\"\n",
    "else:\n",
    "    steak2_state = \"burnt\"\n",
    "\n",
    "# Check if the steak is like what your friend wanted \n",
    "if steak1_state == \"medium\":\n",
    "    print(\"Steak 1 is perfect!\")\n",
    "else:\n",
    "    print(\"You ruined steak 1, your friend is furious!\")\n",
    "\n",
    "if steak2_state == \"well done\":\n",
    "    print(\"Steak 2 is perfect!\")\n",
    "else:\n",
    "    print(\"You ruined steak 2, your friend is furious!\")\n"
   ]
  }
 ],
 "metadata": {
  "kernelspec": {
   "display_name": "Python 3",
   "language": "python",
   "name": "python3"
  },
  "language_info": {
   "codemirror_mode": {
    "name": "ipython",
    "version": 3
   },
   "file_extension": ".py",
   "mimetype": "text/x-python",
   "name": "python",
   "nbconvert_exporter": "python",
   "pygments_lexer": "ipython3",
   "version": "3.11.3"
  },
  "orig_nbformat": 4
 },
 "nbformat": 4,
 "nbformat_minor": 2
}
